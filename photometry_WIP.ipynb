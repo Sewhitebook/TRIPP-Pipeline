{
 "cells": [
  {
   "attachments": {},
   "cell_type": "markdown",
   "metadata": {},
   "source": [
    "Notebook Testing"
   ]
  },
  {
   "cell_type": "code",
   "execution_count": null,
   "metadata": {
    "ExecuteTime": {
     "start_time": "2023-05-24T13:29:42.406006Z",
     "end_time": "2023-05-24T13:29:42.413750Z"
    }
   },
   "outputs": [],
   "source": [
    "import glob\n",
    "import sep\n",
    "import astropy.units as u\n",
    "import astropy.coordinates as coord\n",
    "import matplotlib.pyplot as plt\n",
    "import numpy as np\n",
    "import astroalign as aa\n",
    "from astropy.io import fits\n",
    "from astroquery.ipac.irsa import Irsa\n",
    "from astroquery.sdss import SDSS\n",
    "from astropy.wcs import WCS\n",
    "from astropy.wcs.utils import pixel_to_skycoord\n",
    "from astropy.coordinates import SkyCoord\n",
    "from matplotlib.colors import LogNorm\n",
    "from photutils.aperture import aperture_photometry, CircularAperture, CircularAnnulus, ApertureStats\n",
    "from regions import CirclePixelRegion, PixCoord\n",
    "from photutils import centroids\n",
    "\n",
    "#imports\n"
   ]
  },
  {
   "cell_type": "code",
   "execution_count": null,
   "metadata": {
    "ExecuteTime": {
     "start_time": "2023-05-24T13:29:42.414966Z",
     "end_time": "2023-05-24T13:31:38.256868Z"
    }
   },
   "outputs": [],
   "source": [
    "#files = sorted(glob.glob(\"F:/SDI/sec17/*.fz\"))  #filepath (windows formatted)\n",
    "files = sorted(glob.glob(\"/Users/lucaangeleri/Documents/LCO/sec17/*\")) #filepath (mac os formatted).\n",
    "print(len(files))\n",
    "hdus = [fits.open(f) for f in files] #opens fits files so we can access header data\n",
    "data = [h[1].data for h in hdus] #array for image data\n",
    "try: #some datsets won't align, this is not ideal but we can skip alignment.\n",
    "    aligned = [aa.register(i, data[0])[0] for i in data[0:]]\n",
    "except:\n",
    "    aligned = data\n",
    "    print(\"DID NOT ALIGN\")\n",
    "template = np.mean(aligned, axis = 0) #mean template for calibration photometry --> average of sums == sum of averages in this case.\n",
    "bkg_phot = sep.Background(template) #background subtract for source extraction.\n",
    "extracted_phot = sep.extract(template - bkg_phot.back(),  bkg_phot.globalrms*3, minarea =25, segmentation_map=False) #find sources in image\n",
    "\n",
    "w = WCS(hdus[0][1].header) #WCS matrix object"
   ]
  },
  {
   "cell_type": "code",
   "execution_count": null,
   "metadata": {
    "ExecuteTime": {
     "start_time": "2023-05-24T13:31:38.260790Z",
     "end_time": "2023-05-24T13:31:39.212807Z"
    },
    "collapsed": false
   },
   "outputs": [],
   "source": [
    "plt.imshow(template, cmap = 'gray', norm = LogNorm(vmin = 1, vmax = 75), origin = \"lower\") #plots template\n",
    "plt.show()"
   ]
  },
  {
   "cell_type": "code",
   "execution_count": null,
   "metadata": {
    "ExecuteTime": {
     "start_time": "2023-05-24T13:31:39.220351Z",
     "end_time": "2023-05-24T13:32:25.219925Z"
    }
   },
   "outputs": [],
   "source": [
    "references = [] #list for reference sources\n",
    "mags = [] #reference magnitudes\n",
    "for c, src in enumerate(extracted_phot): #indexes extracted sources by try number to find reference stars\n",
    "    x = src['x']\n",
    "    y = src['y']\n",
    "    coord = pixel_to_skycoord(x, y, w).transform_to('icrs') #gives wcs transformation for pixel coordinates\n",
    "    search = SDSS.query_crossid(coord, fields = ['ra', 'dec', 'psfMag_g', 'psfMagErr_g'], radius = 15 * u.arcsec, region = False) #narrow field cone search to find source based on ra, dec.\n",
    "    if search: #if SDSS query returned results, continue\n",
    "        if search['psfMag_g'] < 16 and search['type'] == 'STAR': #filters search results by sources that are brighter than magnitude 16, and of type star.\n",
    "            ref = dict(ra = search['ra'], dec = search['dec'], x_coord = x, y_coord = y, x_min = src['xmin'], x_max = src['xmax'], g_mag = search['psfMag_g'], g_mag_err = search['psfMagErr_g'], source_id = 'c') #creates dictionary item with source position (ra, dec, x, y), source extent, and mags and errors as reported by SDSS.\n",
    "            references.append(ref)\n",
    "\n",
    "for ref in references: #aperture photometry for calibration model.\n",
    "        coords = [ref['x_coord'], ref['y_coord']] #coordinate objects to make apertures.\n",
    "        pcoords = PixCoord(ref['x_coord'], ref['y_coord'])\n",
    "        radius_i = (ref['x_max'] - ref['x_min']) / 2 #inner radius\n",
    "        radius_o_0 = radius_i + 5 #first outer radius\n",
    "        radius_o_1 = radius_o_0 + 5 #second outer radius\n",
    "\n",
    "        source_circle = CirclePixelRegion(pcoords, radius_i).to_mask() #makes region of source shape\n",
    "        source_aperture = source_circle.cutout(template) #gets data of source\n",
    "\n",
    "        background_annulus = CircularAnnulus(coords, radius_o_0, radius_o_1) #makes annulus region\n",
    "        background_mean = ApertureStats(template, background_annulus).mean\n",
    "\n",
    "        source_flux_pix = source_aperture-(source_circle*background_mean) #pixel wise background subtraction\n",
    "        source_flux_total = np.sum(source_flux_pix)\n",
    "\n",
    "        inst_mag = -2.5 * np.log10(source_flux_total) #uncalibrated instrumental magnitude.\n",
    "        mag_cat = dict(inst_mag = inst_mag, inst_err = None, sky_mag = float(ref['g_mag']), sky_err = float(ref['g_mag_err'])) #Leaving an empty keyword for instrumental error calculated later\n",
    "        mags.append(mag_cat)"
   ]
  },
  {
   "cell_type": "code",
   "execution_count": null,
   "metadata": {
    "ExecuteTime": {
     "start_time": "2023-05-24T13:32:25.220451Z",
     "end_time": "2023-05-24T13:32:25.739512Z"
    },
    "collapsed": false
   },
   "outputs": [],
   "source": [
    "inst_mags = [mag['inst_mag'] for mag in mags]\n",
    "sky_mags = [mag['sky_mag'] for mag in mags]\n",
    "res = []\n",
    "\n",
    "\n",
    "#Makes linear model for calibration:\n",
    "#This is the first round of modeling, with outliers.\n",
    "p0 = np.polyfit(inst_mags, sky_mags, deg = 1)\n",
    "x = np.arange(-15, 0)\n",
    "y = p0[0]*x + p0[1]\n",
    "plt.plot(x, y, color = 'b', label = \"Model With Outliers\")\n",
    "diffs = [s['sky_mag']- (s['inst_mag']*p0[0] + p0[1]) for s in mags]\n",
    "stdv = np.std(diffs)\n",
    "\n",
    "inst_mags_final = []\n",
    "sky_mags_final = []\n",
    "outlier_inst =[]\n",
    "outlier_sky =[]\n",
    "\n",
    "for diff in diffs: #rudementary sigma clipping to remove outliers from calibration model.\n",
    "    if diff < stdv:\n",
    "        i = diffs.index(diff)\n",
    "        inst_mags_final.append(inst_mags[i])\n",
    "        sky_mags_final.append(sky_mags[i])\n",
    "    else:\n",
    "        i = diffs.index(diff)\n",
    "        outlier_inst.append(inst_mags[i])\n",
    "        outlier_sky.append(sky_mags[i])\n",
    "p1 = np.polyfit(inst_mags_final, sky_mags_final, deg = 1) #recalculates calibration model without outliers.\n",
    "#p2 = np.polyfit(inst_mags_final, sky_mags_final, deg = 0)\n",
    "#print(p2[0])\n",
    "print(\"first try: {}\".format(p0)) #prints slopes of each model. In theory, they should come out to around 1.\n",
    "print(\"second try: {}\".format(p1))\n",
    "\n",
    "\n",
    "plt.scatter(outlier_inst, outlier_sky, color = 'b', label = \"Outliers\")\n",
    "plt.scatter(inst_mags_final, sky_mags_final, color = 'r', label = \"Kept\")\n",
    "plt.plot(x, [i*p1[0] + p1[1] for i in x], color = 'r', label = \"Model Without Outliers\")\n",
    "plt.plot(x, [i+ p1[1] for i in x], color = 'g', label = \"unity\")\n",
    "plt.xlabel(\"Instrumental Magnitude SDSS g-band\")\n",
    "plt.ylabel(\"SDSS Reference Magnitude g-band\")\n",
    "plt.title(\"Instrumental vs Reference Magnitude\")\n",
    "plt.legend()\n",
    "#plt.savefig(\"F:/SDI/Section32Figures/calibrationplot.png\", dpi = 1000)\n",
    "#plt.savefig(\"/Users/lucaangeleri/Documents/LCO/sec17figures/calibrationplot.png\", dpi = 1000)\n",
    "plt.show()\n",
    "\n"
   ]
  },
  {
   "cell_type": "code",
   "execution_count": null,
   "outputs": [],
   "source": [
    "\n",
    "mags_final = []\n",
    "for i, image in enumerate(aligned):\n",
    "    print(i)\n",
    "    N_r = hdus[i][1].header[\"RDNOISE\"] #readout noise\n",
    "    for c, source in enumerate(extracted_phot):\n",
    "        coords = [source['x'], source['y']]\n",
    "        pcoords = PixCoord(source['x'], source['y'])\n",
    "        radius_i = (source['xmax'] - source['xmin']) / 2\n",
    "        radius_o_0 = radius_i + 5\n",
    "        radius_o_1 = radius_o_0 + 5\n",
    "\n",
    "        source_circle = CirclePixelRegion(pcoords, radius_i).to_mask() #makes region of source shape\n",
    "        source_aperture = source_circle.cutout(image) #gets data of source\n",
    "\n",
    "        background_annulus = CircularAnnulus(coords, radius_o_0, radius_o_1)\n",
    "        background_mean = ApertureStats(image, background_annulus).mean\n",
    "\n",
    "        source_flux_pix = source_aperture-(source_circle*background_mean) #pixel wise background subtraction\n",
    "        source_flux_total = np.sum(source_flux_pix)\n",
    "\n",
    "        readout_sum_square = np.sum(source_circle*np.float64(N_r**2)) #applies square readout noise to source array shape, then adds. Gives sum of square readout noise over back subtracted source.\n",
    "\n",
    "        delta_n = (readout_sum_square + source_flux_total + (((radius_i**2)/((radius_o_1**2)-(radius_o_0**2)))**2)*(readout_sum_square + aperture_photometry(image, background_annulus)['aperture_sum'][0]))**(1/2) #this is the stuff for SNR\n",
    "\n",
    "        if source_flux_total <= 0:\n",
    "            inst_mag = -2.5*np.log10(abs(source_flux_total)) # For now, the case where the background is oversubtracted from LCO is handled in this way but this is probably not the correct way to do this.\n",
    "            mag_coor = p1[0] * inst_mag + p1[1]\n",
    "            delta_m = 2.5*np.log10(np.e)*abs(delta_n/source_flux_total)\n",
    "        else:\n",
    "            inst_mag = -2.5*np.log10(source_flux_total)\n",
    "            mag_coor = p1[0] * inst_mag + p1[1]\n",
    "            delta_m = 2.5*np.log10(np.e)*abs(delta_n/source_flux_total)\n",
    "\n",
    "\n",
    "        info = dict(source_id = c, corrected_mag = mag_coor, mag_error = delta_m, x = source['x'], y = source['y'], r0 = radius_i, r1 = radius_o_0, r2 = radius_o_1 )\n",
    "        mags_final.append(info)\n",
    "\n"
   ],
   "metadata": {
    "collapsed": false,
    "ExecuteTime": {
     "start_time": "2023-05-25T14:35:33.110585Z",
     "end_time": "2023-05-25T14:36:36.894300Z"
    }
   }
  },
  {
   "cell_type": "code",
   "execution_count": null,
   "metadata": {
    "ExecuteTime": {
     "start_time": "2023-05-24T13:33:28.196351Z",
     "end_time": "2023-05-24T13:39:24.912451Z"
    },
    "collapsed": false
   },
   "outputs": [],
   "source": [
    "#this is just for plotting.\n",
    "\n",
    "c = 0\n",
    "x_b = data[0].shape[1]\n",
    "y_b = data[0].shape[0]\n",
    "print(len(extracted_phot))\n",
    "while c != len(extracted_phot):\n",
    "    Mags = []\n",
    "    Chis = []\n",
    "    for mag in mags_final:\n",
    "        if mag['source_id'] == c:\n",
    "            Mags.append(mag)\n",
    "    r = np.arange(0, len(Mags), 1)\n",
    "\n",
    "    plt.errorbar(r, [m['corrected_mag'] for m in Mags], yerr= [m['mag_error'] for m in Mags] , linestyle = 'none', marker = 'o')\n",
    "    mag_avg = np.mean([m['corrected_mag'] for m in Mags])\n",
    "    avg_array = np.ones(r.shape)*mag_avg\n",
    "    plt.plot(r, avg_array, color = 'r', label = \"Mean Magnitude\" )\n",
    "    plt.legend()\n",
    "\n",
    "    avg_mag = np.median([m['corrected_mag'] for m in Mags])\n",
    "    for m in Mags:\n",
    "        chi_i = ((m['corrected_mag'] - avg_mag)**2)/(m['mag_error']**2)\n",
    "        Chis.append(chi_i)\n",
    "    dof = len(Mags) - 1\n",
    "    chi_dof = np.sum(Chis)/dof\n",
    "\n",
    "\n",
    "\n",
    "\n",
    "    plt.title(\"Source Number: {}, Chi2 = {}\".format(c, chi_dof))\n",
    "    plt.xlabel('Frame Number')\n",
    "    plt.ylabel(\"Magnitude, SDSS g-band\")\n",
    "    #plt.xticks(np.linspace(0, 99, 1))\n",
    "\n",
    "    #plt.ylim(0, 25)\n",
    "    #plt.figure(dpi=300)\n",
    "    #plt.savefig(\"F:/SDI/Section17Figures/Source{}lightcurve.png\".format(c), format = 'png', dpi = 500)\n",
    "    plt.savefig(\"/Users/lucaangeleri/Documents/LCO/sec17figures/Source{}lightcurve.png\".format(c), format = 'png', dpi = 500)\n",
    "    plt.show()\n",
    "\n",
    "\n",
    "    plt.title(\"Source Number: {}, Position: {}, {}\".format(c, Mags[0]['x'], Mags[0]['y']))\n",
    "    #plt.scatter(Mags[0]['x'], Mags[0]['y'], facecolors = 'none', edgecolors = 'r', s = np.pi*(Mags[0]['r0'])**2)\n",
    "    circle0 = plt.Circle((Mags[0]['x'], Mags[0]['y']), Mags[0]['r0'], color = 'r', linewidth= .1, fill = False)\n",
    "    circle1 = plt.Circle((Mags[0]['x'], Mags[0]['y']), Mags[0]['r1'], color = 'b', linewidth= .1,fill = False)\n",
    "    circle2 = plt.Circle((Mags[0]['x'], Mags[0]['y']), Mags[0]['r2'], color = 'g', linewidth= .1,fill = False)\n",
    "\n",
    "\n",
    "\n",
    "    ax = plt.gca()\n",
    "    ax.add_patch(circle0)\n",
    "    ax.add_patch(circle1)\n",
    "    ax.add_patch(circle2)\n",
    "    plt.imshow(template, cmap = 'gray', norm = LogNorm(vmin = 1, vmax = 200), origin='lower')\n",
    "\n",
    "    #plt.figure(dpi=300)\n",
    "    #plt.savefig(\"F:/SDI/Section17Figures/Source{}location.png\".format(c), format = 'png', dpi = 500)\n",
    "    plt.savefig(\"/Users/lucaangeleri/Documents/LCO/sec17figures/Source{}location.png\".format(c), format = 'png', dpi = 500)\n",
    "    c +=1\n",
    "    plt.show()\n"
   ]
  },
  {
   "cell_type": "code",
   "execution_count": null,
   "metadata": {
    "ExecuteTime": {
     "start_time": "2023-05-24T13:39:23.549240Z",
     "end_time": "2023-05-24T13:39:24.912621Z"
    },
    "collapsed": false
   },
   "outputs": [],
   "source": [
    "print(data[0].shape[1])"
   ]
  },
  {
   "cell_type": "code",
   "execution_count": null,
   "metadata": {
    "ExecuteTime": {
     "start_time": "2023-05-25T14:24:28.037494Z",
     "end_time": "2023-05-25T14:24:30.275758Z"
    },
    "collapsed": false
   },
   "outputs": [],
   "source": [
    "plt.imshow(template, cmap= \"viridis\", norm= LogNorm(vmin=1, vmax = 60), origin = 'lower')\n",
    "for source in extracted_phot:\n",
    "    plt.scatter(source['x'], source['y'], facecolors = 'none', edgecolors = 'r')\n",
    "\n",
    "#plt.savefig(\"F:/SDI/template.png\", dpi = 400)\n"
   ]
  },
  {
   "cell_type": "code",
   "execution_count": null,
   "metadata": {
    "ExecuteTime": {
     "start_time": "2023-05-24T13:39:25.406468Z",
     "end_time": "2023-05-24T13:39:29.020229Z"
    },
    "collapsed": false
   },
   "outputs": [],
   "source": [
    "\n"
   ]
  }
 ],
 "metadata": {
  "kernelspec": {
   "display_name": "Python 3",
   "language": "python",
   "name": "python3"
  },
  "language_info": {
   "codemirror_mode": {
    "name": "ipython",
    "version": 3
   },
   "file_extension": ".py",
   "mimetype": "text/x-python",
   "name": "python",
   "nbconvert_exporter": "python",
   "pygments_lexer": "ipython3",
   "version": "3.11.1"
  },
  "orig_nbformat": 4
 },
 "nbformat": 4,
 "nbformat_minor": 2
}
