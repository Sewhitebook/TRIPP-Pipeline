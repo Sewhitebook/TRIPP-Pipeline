{
 "cells": [
  {
   "attachments": {},
   "cell_type": "markdown",
   "metadata": {},
   "source": [
    "Notebook Testing"
   ]
  },
  {
   "cell_type": "code",
   "outputs": [],
   "source": [
    "import glob\n",
    "import sep\n",
    "import astropy.units as u\n",
    "import astropy.coordinates as coord\n",
    "import matplotlib.pyplot as plt\n",
    "import numpy as np\n",
    "import astroalign as aa\n",
    "from astropy.io import fits\n",
    "from astroquery.ipac.irsa import Irsa\n",
    "from astroquery.sdss import SDSS\n",
    "from astropy.wcs import WCS\n",
    "from astropy.wcs.utils import pixel_to_skycoord\n",
    "from astropy.coordinates import SkyCoord\n",
    "from matplotlib.colors import LogNorm\n",
    "from photutils.aperture import aperture_photometry, CircularAperture, CircularAnnulus, ApertureStats\n",
    "from regions import CirclePixelRegion, PixCoord\n",
    "from photutils import centroids\n",
   ]
  },
  {
   "cell_type": "code",
    "w = WCS(hdus[0][1].header) #WCS matrix object"
   ]
  },
  {
   "cell_type": "code",
   "outputs": [],
   "source": [
    "references = [] #list for reference sources\n",
    "mags = [] #reference magnitudes\n",
    "for c, src in enumerate(extracted_phot): #indexes extracted sources by try number to find reference stars\n",
    "    x = src['x']\n",
    "    y = src['y']\n",
    "    coord = pixel_to_skycoord(x, y, w).transform_to('icrs') #gives wcs transformation for pixel coordinates\n",
    "    search = SDSS.query_crossid(coord, fields = ['ra', 'dec', 'psfMag_g', 'psfMagErr_g'], radius = 15 * u.arcsec, region = False) #narrow field cone search to find source based on ra, dec.\n",
    "    if search: #if SDSS query returned results, continue\n",
    "        if search['psfMag_g'] < 16 and search['type'] == 'STAR': #filters search results by sources that are brighter than magnitude 16, and of type star.\n",
    "            ref = dict(ra = search['ra'], dec = search['dec'], x_coord = x, y_coord = y, x_min = src['xmin'], x_max = src['xmax'], g_mag = search['psfMag_g'], g_mag_err = search['psfMagErr_g'], source_id = 'c') #creates dictionary item with source position (ra, dec, x, y), source extent, and mags and errors as reported by SDSS.\n",
    "            references.append(ref)\n",
    "\n",
    "for ref in references: #aperture photometry for calibration model.\n",
    "        coords = [ref['x_coord'], ref['y_coord']] #coordinate objects to make apertures.\n",
    "        pcoords = PixCoord(ref['x_coord'], ref['y_coord'])\n",
    "        radius_i = (ref['x_max'] - ref['x_min']) / 2 #inner radius\n",
    "        radius_o_0 = radius_i + 5 #first outer radius\n",
    "        radius_o_1 = radius_o_0 + 5 #second outer radius\n",
    "\n",
    "        source_circle = CirclePixelRegion(pcoords, radius_i).to_mask() #makes region of source shape\n",
    "        source_aperture = source_circle.cutout(template) #gets data of source\n",
    "\n",
    "        background_annulus = CircularAnnulus(coords, radius_o_0, radius_o_1) #makes annulus region\n",
    "        background_mean = ApertureStats(template, background_annulus).mean\n",
    "\n",
    "        source_flux_pix = source_aperture-(source_circle*background_mean) #pixel wise background subtraction\n",
    "        source_flux_total = np.sum(source_flux_pix)\n",
    "\n",
    "        inst_mag = -2.5 * np.log10(source_flux_total) #uncalibrated instrumental magnitude.\n",
    "        mag_cat = dict(inst_mag = inst_mag, inst_err = None, sky_mag = float(ref['g_mag']), sky_err = float(ref['g_mag_err'])) #Leaving an empty keyword for instrumental error calculated later\n",
    "        mags.append(mag_cat)"
   ]
  },
  {
   "cell_type": "code",
   "source": [
    "inst_mags = [mag['inst_mag'] for mag in mags]\n",
    "sky_mags = [mag['sky_mag'] for mag in mags]\n",
    "\n",
    "x = np.arange(-15, 0)\n",
    "y = p0[0]*x + p0[1]\n",
    "plt.plot(x, y, color = 'b', label = \"Model With Outliers\")\n",
    "diffs = [s['sky_mag']- (s['inst_mag']*p0[0] + p0[1]) for s in mags]\n",
    "stdv = np.std(diffs)\n",
    "\n",
  }
 ],
 "metadata": {
  "kernelspec": {
   "display_name": "Python 3",
   "language": "python",
   "name": "python3"
  },
  "language_info": {
   "codemirror_mode": {
    "name": "ipython",
    "version": 3
   },
   "file_extension": ".py",
   "mimetype": "text/x-python",
   "name": "python",
   "nbconvert_exporter": "python",
   "pygments_lexer": "ipython3",
   "version": "3.11.1"
  },
  "orig_nbformat": 4
 },
 "nbformat": 4,
 "nbformat_minor": 2
}
