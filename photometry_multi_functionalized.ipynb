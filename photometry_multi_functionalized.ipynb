{
 "cells": [
  {
   "cell_type": "code",
   "execution_count": 64,
   "metadata": {},
   "outputs": [],
   "source": [
    "import glob\n",
    "import sep\n",
    "import astropy.units as u\n",
    "import astropy.coordinates as coord\n",
    "import matplotlib.pyplot as plt\n",
    "import numpy as np\n",
    "from scipy import odr\n",
    "import astroalign as aa\n",
    "from astropy.io import fits\n",
    "from astroquery.ipac.irsa import Irsa\n",
    "from astroquery.sdss import SDSS\n",
    "from astropy.wcs import WCS\n",
    "from astropy.wcs.utils import pixel_to_skycoord\n",
    "from astropy.coordinates import SkyCoord\n",
    "from matplotlib.colors import LogNorm, TABLEAU_COLORS\n",
    "from photutils.aperture import aperture_photometry, CircularAperture, CircularAnnulus, ApertureStats\n",
    "from regions import CirclePixelRegion, PixCoord\n",
    "from photutils import centroids\n",
    "import os\n",
    "\n",
    "#imports\n",
    "#FOR ASTROQUERRY: If you encounter an error related to \"fields\" in \"SDSS.querry_crossid\", try installing the newest development version of astroquerry rather than the default. There is a bug in the older official release version."
   ]
  },
  {
   "cell_type": "code",
   "execution_count": 88,
   "metadata": {},
   "outputs": [],
   "source": [
    "def lin_model(p, x): #We need this for ODR later.\n",
    "    return p[0] * x + p[1]\n",
    "\n",
    "class FrameData:\n",
    "\n",
    "    def extract_data(self, file):\n",
    "        hdul = fits.open(file)\n",
    "        image = hdul[1].data\n",
    "        header = hdul[1].header\n",
    "        return image, header\n",
    "\n",
    "    def add_realigned_image(self, aligned_image):\n",
    "        self.aligned_image = aligned_image\n",
    "\n",
    "    def add_reference_star(self, icrs_coords, pixel_coords, x_min, x_max, SDSS_filter_band):\n",
    "        new_star = Star(icrs_coords, pixel_coords, x_min, x_max, SDSS_filter_band)\n",
    "        self.star_list.append(new_star)\n",
    "\n",
    "    def fill_out_star_list(self):\n",
    "        for star in self.star_list:\n",
    "            border_condition = (self.header['NAXIS1'] - star.pixel_coords[0]) < 0 or star.pixel_coords[0] < 0 or (self.header['NAXIS2'] - star.pixel_coords[1]) < 0 or star.pixel_coords[1] < 0\n",
    "            if border_condition:\n",
    "                star.flag = True\n",
    "\n",
    "            regions_coordinate_object = PixCoord(star.pixel_coords[0], star.pixel_coords[1]) #No I dont know why you cant just pass a tuple. Screw you apparently.\n",
    "            inner_annulus_radius = star.pixel_radius + 5\n",
    "            outer_annulus_radius = star.pixel_radius + 10\n",
    "\n",
    "            source_circle = CirclePixelRegion(regions_coordinate_object, star.pixel_radius).to_mask()\n",
    "            source_aperture = source_circle.cutout(self.image)\n",
    "\n",
    "            background_annulus = CircularAnnulus(star.pixel_coords, inner_annulus_radius, outer_annulus_radius)\n",
    "            background_mean = ApertureStats(self.image, background_annulus).mean\n",
    "\n",
    "            source_flux = np.sum(source_aperture - (source_circle * background_mean))\n",
    "\n",
    "            sum_of_squared_noise = np.sum(source_circle * np.float64(self.read_noise**2))\n",
    "            delta_n = (sum_of_squared_noise + source_flux\n",
    "                       + (star.pixel_radius**2 / (outer_annulus_radius**2 - inner_annulus_radius**2))**2 \n",
    "                       * (sum_of_squared_noise + aperture_photometry(self.image, background_annulus)['aperture_sum'][0]))**0.5\n",
    "            \n",
    "            star.instrumental_mag = -2.5 * np.log10(np.abs(source_flux))\n",
    "            star.instrumental_mag_err = 2.5 * np.log10(np.e) * np.abs(delta_n / source_flux)\n",
    "            if source_flux <= 0:\n",
    "                star.flag = True\n",
    "            \n",
    "    def calibrate_frame(self, ref_thresh_mag=15):\n",
    "        calibration_star_inst_mags = []\n",
    "        calibration_star_inst_mag_errs = []\n",
    "        calibration_star_SDSS_mags = []\n",
    "        calibration_star_SDSS_mag_errs = []\n",
    "\n",
    "        for star in self.star_list:\n",
    "            #warning: the (x != None) check must go first so the and statement branches properly. Don't mess with this.\n",
    "            reference_criteria = (star.SDSS_mag != None) and (star.SDSS_mag < ref_thresh_mag) and (star.flag == False)\n",
    "            if reference_criteria:\n",
    "                star.is_reference = True #might be useful information later to avoid cherrypicking.\n",
    "                calibration_star_inst_mags.append(star.instrumental_mag)\n",
    "                calibration_star_inst_mag_errs.append(star.instrumental_mag_err)\n",
    "                calibration_star_SDSS_mags.append(star.SDSS_mag)\n",
    "                calibration_star_SDSS_mag_errs.append(star.SDSS_mag_err)\n",
    "\n",
    "        #Now the tricky bit. We have (uncorrelated, thank god) errors in both x and y so we must use Orthogonal Distance Regression. We'll use scipy's stupid package for this for consistency.\n",
    "        linear = odr.Model(lin_model)\n",
    "        zero_point_fit_data = odr.Data(calibration_star_inst_mags, calibration_star_SDSS_mags,\n",
    "                                we=calibration_star_inst_mag_errs, wd=calibration_star_SDSS_mag_errs)\n",
    "        odr_output = odr.ODR(zero_point_fit_data, linear, beta0=[1.0, 23.3]).run() #Beta0 is an initial guess based on known estimates.\n",
    "\n",
    "        self.calibration_params = odr_output.beta\n",
    "        self.calibration_param_errs = odr_output.sd_beta\n",
    "\n",
    "        # plot_domain = np.linspace(np.min(calibration_star_inst_mags) - 1, np.max(calibration_star_inst_mags) + 1, 100)\n",
    "        # plt.figure(figsize=(10,10))\n",
    "        # plt.errorbar(calibration_star_inst_mags, calibration_star_SDSS_mags, xerr=calibration_star_inst_mag_errs, yerr=calibration_star_SDSS_mag_errs, marker=\".\", linestyle=\"\", color=\"black\")\n",
    "        # plt.plot(plot_domain, lin_model(odr_output.beta, plot_domain), color=\"red\")\n",
    "        # plt.show()\n",
    "\n",
    "    def propagate_error(self):\n",
    "        \n",
    "        \n",
    "    def __init__(self, file):\n",
    "        self.star_list = []\n",
    "        self.image, self.header = self.extract_data(file)\n",
    "        self.read_noise = self.header['rdnoise']\n",
    "        self.calibration_params = None\n",
    "        self.calibration_param_errs = None\n",
    "\n",
    "\n",
    "class FrameSet:\n",
    "\n",
    "    def align_frames(self):\n",
    "        first_image = self.image_list[0]\n",
    "        try:\n",
    "            aligned = [aa.register(image, first_image)[0] for image in self.image_list[0:]]\n",
    "        except:\n",
    "            aligned = self.image_list\n",
    "            raise UserWarning(\"AstroAlign did not align the frames\")\n",
    "        self.aligned = aligned\n",
    "\n",
    "    def store_aligned_frames(self):\n",
    "        for frame_index in range(len(self.frame_list)):\n",
    "            self.frame_list[frame_index].add_realigned_image(self.aligned[frame_index])\n",
    "\n",
    "    def create_template(self):\n",
    "        self.template = np.median(self.aligned, axis=0)\n",
    "\n",
    "    def find_sources_from_template(self):\n",
    "        background_object = sep.Background(self.template)\n",
    "        self.sep_template_sources = sep.extract(self.template - background_object.back(), 3*background_object.globalrms, minarea=25, segmentation_map=False)\n",
    "\n",
    "    def create_reference_stars(self):\n",
    "        for frame_index in range(len(self.frame_list)):\n",
    "            for source in self.sep_template_sources:\n",
    "                pixel_coords = [source['x'], source['y']]\n",
    "                icrs_coords = pixel_to_skycoord(pixel_coords[0], pixel_coords[1], self.WCS_matrix).transform_to('icrs')\n",
    "                x_min = source['xmin']\n",
    "                x_max = source['xmax']\n",
    "                self.frame_list[frame_index].add_reference_star(icrs_coords=icrs_coords, pixel_coords=pixel_coords, x_min=x_min, x_max=x_max, SDSS_filter_band=self.filter_band)\n",
    "\n",
    "    def __init__(self, file_path):\n",
    "        self.frame_list = []\n",
    "        self.image_list = []\n",
    "        self.header_list = []\n",
    "\n",
    "        for file in file_path:\n",
    "            frame = FrameData(file) #Create a new instance of FrameData for every file in the set directory\n",
    "            self.frame_list.append(frame)\n",
    "            self.image_list.append(frame.image)\n",
    "            self.header_list.append(frame.header)\n",
    "\n",
    "        self.WCS_matrix = WCS(self.header_list[0]) #The WCS matrix is (hypothetically) the same for every image so the first header is fine\n",
    "        self.filter_band = self.header_list[0]['filter'][0] #This assumes the filter is the same for every image in the set. We can make this a variable option later but for now idgaf.\n",
    "                                                            #Another brief note: the last 0th index is because LCO lists filters as 'xp' with the p representing prime. We just want the actual band letter, not the p.\n",
    "\n",
    "\n",
    "class Star:\n",
    "\n",
    "    def __init__(self, icrs_coords, pixel_coords, x_min, x_max, SDSS_filter_band, source_id=None, instrumental_mag=None, instrumental_mag_err=None):\n",
    "        self.icrs_coords = icrs_coords\n",
    "        self.pixel_coords = pixel_coords\n",
    "        self.x_min = x_min\n",
    "        self.x_max = x_max\n",
    "        self.SDSS_filter_band = SDSS_filter_band\n",
    "        self.source_id = source_id\n",
    "        self.instrumental_mag = instrumental_mag\n",
    "        self.instrumental_mag_err = instrumental_mag_err\n",
    "        self.flag = False #Flag flips to true if the source is potentially problematic such as a border source or a source with negative flux.\n",
    "        self.SDSS_mag = None #By default assume there is not an SDSS magnitude associated with a star.\n",
    "        self.SDSS_mag_err = None #And obviously then there is also no error in the SDSS magnitude...\n",
    "        self.is_reference = False #By default stars aren't references. This gets toggled if they fit the criteria later.\n",
    "\n",
    "        SDSS_reference_search = SDSS.query_crossid(self.icrs_coords, fields=['ra', 'dec', f'psfMag_{SDSS_filter_band}', f'psfMagErr_{SDSS_filter_band}'], radius=15*u.arcsec, region=False) #narrow field cone search to find source based on ra, dec.\n",
    "        if SDSS_reference_search:\n",
    "            if SDSS_reference_search['type'] == 'STAR':\n",
    "                self.SDSS_mag = np.float64(SDSS_reference_search[f'psfMag_{SDSS_filter_band}'])\n",
    "                self.SDSS_mag_err = np.float64(SDSS_reference_search[f'psfMagErr_{SDSS_filter_band}'])\n",
    "\n",
    "        self.pixel_radius = (self.x_max - self.x_min) / 2\n",
    "\n",
    "class LightCurve:\n",
    "    "
   ]
  },
  {
   "cell_type": "code",
   "execution_count": 89,
   "metadata": {},
   "outputs": [
    {
     "name": "stderr",
     "output_type": "stream",
     "text": [
      "WARNING: FITSFixedWarning: 'obsfix' made the change 'Set OBSGEO-L to  -156.257514 from OBSGEO-[XYZ].\n",
      "Set OBSGEO-B to    20.706958 from OBSGEO-[XYZ].\n",
      "Set OBSGEO-H to     3033.997 from OBSGEO-[XYZ]'. [astropy.wcs.wcs]\n"
     ]
    }
   ],
   "source": [
    "files = sorted(glob.glob(r\"C:\\Users\\Sam Whitebook\\Documents\\lubin_test_data\\*\"))\n",
    "\n",
    "set1 = FrameSet(files)\n",
    "set1.align_frames()\n",
    "set1.create_template()\n",
    "set1.store_aligned_frames()\n",
    "set1.find_sources_from_template()\n",
    "set1.create_reference_stars()\n",
    "for frame in set1.frame_list:\n",
    "    frame.fill_out_star_list()\n",
    "\n",
    "# plt.imshow(set1.template, norm=LogNorm(np.percentile(set1.template, 80), np.percentile(set1.template, 100)), cmap=\"gray\", interpolation=None)"
   ]
  },
  {
   "cell_type": "code",
   "execution_count": 90,
   "metadata": {},
   "outputs": [
    {
     "name": "stdout",
     "output_type": "stream",
     "text": [
      "params [ 0.91702603 23.43108034]\n",
      "errors [0.07148929 0.71930771]\n"
     ]
    }
   ],
   "source": [
    "set1.frame_list[0].calibrate_frame()"
   ]
  },
  {
   "cell_type": "code",
   "execution_count": 43,
   "metadata": {},
   "outputs": [
    {
     "name": "stdout",
     "output_type": "stream",
     "text": [
      "[-8.822164139230491, -8.845265346544087, -8.791310623470785, -8.868111909151397, -8.79776788941433]\n"
     ]
    },
    {
     "data": {
      "text/plain": [
       "[<matplotlib.lines.Line2D at 0x209be68c910>]"
      ]
     },
     "execution_count": 43,
     "metadata": {},
     "output_type": "execute_result"
    },
    {
     "data": {
      "image/png": "[encoded data removed]",
      "text/plain": [
       "<Figure size 640x480 with 1 Axes>"
      ]
     },
     "metadata": {},
     "output_type": "display_data"
    }
   ],
   "source": [
    "test_star_mags = []\n",
    "for i in range(len(set1.frame_list)):\n",
    "    test_star_mags.append(set1.frame_list[i].star_list[0].instrumental_mag)"
   ]
  },
  {
   "cell_type": "code",
   "execution_count": null,
   "metadata": {},
   "outputs": [],
   "source": []
  }
 ],
 "metadata": {
  "kernelspec": {
   "display_name": "Python 3",
   "language": "python",
   "name": "python3"
  },
  "language_info": {
   "codemirror_mode": {
    "name": "ipython",
    "version": 3
   },
   "file_extension": ".py",
   "mimetype": "text/x-python",
   "name": "python",
   "nbconvert_exporter": "python",
   "pygments_lexer": "ipython3",
   "version": "3.11.1"
  },
  "orig_nbformat": 4
 },
 "nbformat": 4,
 "nbformat_minor": 2
}
