{
 "cells": [
  {
   "cell_type": "code",
   "execution_count": null,
   "metadata": {
    "collapsed": true,
    "ExecuteTime": {
     "start_time": "2023-05-31T17:03:33.388873Z",
     "end_time": "2023-05-31T17:03:33.393368Z"
    }
   },
   "outputs": [],
   "source": [
    "import glob\n",
    "import sep\n",
    "import astropy.units as u\n",
    "import astropy.coordinates as coord\n",
    "import matplotlib.pyplot as plt\n",
    "import numpy as np\n",
    "import astroalign as aa\n",
    "from astropy.io import fits\n",
    "from astroquery.ipac.irsa import Irsa\n",
    "from astroquery.sdss import SDSS\n",
    "from astropy.wcs import WCS\n",
    "from astropy.wcs.utils import pixel_to_skycoord\n",
    "from astropy.coordinates import SkyCoord\n",
    "from matplotlib.colors import LogNorm\n",
    "from photutils.aperture import aperture_photometry, CircularAperture, CircularAnnulus, ApertureStats\n",
    "from regions import CirclePixelRegion, PixCoord\n",
    "from photutils import centroids\n",
    "\n",
    "\n",
    "\n",
    "#imports"
   ]
  },
  {
   "cell_type": "code",
   "execution_count": null,
   "outputs": [],
   "source": [
    "#files = sorted(glob.glob(\"F:/SDI/sec17/*.fz\"))  #filepath (windows formatted)\n",
    "files = sorted(glob.glob(\"/Users/lucaangeleri/Documents/LCO/sec17/*\")) #filepath (mac os formatted).\n",
    "print(len(files))\n",
    "hdus = [fits.open(f) for f in files] #opens fits files so we can access header data\n",
    "data = [h[1].data for h in hdus] #array for image data\n",
    "print(data[0].shape)\n",
    "try: #some datsets won't align, this is not ideal but we can skip alignment.\n",
    "    aligned = [aa.register(i, data[0])[0] for i in data[0:]] #align takes quite a while, is there a way to make it faster?\n",
    "except:\n",
    "    aligned = data\n",
    "    print(\"DID NOT ALIGN\")\n",
    "template = np.median(aligned, axis = 0) #can just use median since all we need to do is find sources (median is faster than np.mean)\n",
    "bkg_phot = sep.Background(template) #background subtract for source extraction.\n",
    "extracted_phot = sep.extract(template - bkg_phot.back(),  bkg_phot.globalrms*3, minarea =25, segmentation_map=False) #find sources in image\n",
    "\n",
    "w = WCS(hdus[0][1].header) #WCS matrix object"
   ],
   "metadata": {
    "collapsed": false,
    "ExecuteTime": {
     "start_time": "2023-05-31T17:03:43.348901Z",
     "end_time": "2023-05-31T17:05:42.227517Z"
    }
   }
  },
  {
   "cell_type": "code",
   "execution_count": null,
   "outputs": [],
   "source": [
    "sources = []\n",
    "\n",
    "for c, src in enumerate(extracted_phot): #indexes extracted sources by try number to find reference stars\n",
    "    x = src['x']\n",
    "    y = src['y']\n",
    "    coord = pixel_to_skycoord(x, y, w).transform_to('icrs') #gives wcs transformation for pixel coordinates\n",
    "    search = SDSS.query_crossid(coord, fields = ['ra', 'dec', 'psfMag_g', 'psfMagErr_g'], radius = 15 * u.arcsec, region = False) #narrow field cone search to find source based on ra, dec.\n",
    "\n",
    "    ref = dict(ra_dec = coord,x_coord = x, y_coord = y, x_min = src['xmin'], x_max = src['xmax'],rad = None, g_mag = None, g_mag_err = None, source_id = c, calibrated_mags = [], instrumental_mags = [], inst_mag_errs= [])\n",
    "\n",
    "    if search: #if SDSS query returned results, continue\n",
    "        if search['type'] == 'STAR': #filters search results by sources that are brighter than magnitude 16, and of type star.\n",
    "            ref['g_mag'] = search['psfMag_g']\n",
    "            ref['g_mag_err'] = search['psfMagErr_g']\n",
    "    sources.append(ref)\n",
    "print(len(sources))\n"
   ],
   "metadata": {
    "collapsed": false,
    "ExecuteTime": {
     "start_time": "2023-05-31T17:05:42.235958Z",
     "end_time": "2023-05-31T17:06:49.693860Z"
    }
   }
  },
  {
   "cell_type": "code",
   "execution_count": null,
   "outputs": [],
   "source": [
    "\n",
    "for i, image in enumerate(aligned):\n",
    "    print(i)\n",
    "    N_r = hdus[i][1].header[\"RDNOISE\"] #readout noise\n",
    "    for source in sources:\n",
    "        coords = [source['x_coord'], source['y_coord']]\n",
    "        pcoords = PixCoord(source['x_coord'], source['y_coord'])\n",
    "        radius_i = (source['x_max'] - source['x_min']) / 2\n",
    "        source['rad'] = (radius_i)\n",
    "        radius_o_0 = radius_i + 5\n",
    "        radius_o_1 = radius_o_0 + 5\n",
    "\n",
    "        source_circle = CirclePixelRegion(pcoords, radius_i).to_mask() #makes region of source shape\n",
    "        source_aperture = source_circle.cutout(image) #gets data of source\n",
    "\n",
    "        background_annulus = CircularAnnulus(coords, radius_o_0, radius_o_1)\n",
    "        background_mean = ApertureStats(image, background_annulus).mean\n",
    "\n",
    "        source_flux_pix = source_aperture-(source_circle*background_mean) #pixel wise background subtraction\n",
    "        source_flux_total = np.sum(source_flux_pix)\n",
    "\n",
    "        readout_sum_square = np.sum(source_circle*np.float64(N_r**2)) #applies square readout noise to source array shape, then adds. Gives sum of square readout noise over back subtracted source.\n",
    "\n",
    "        delta_n = (readout_sum_square + source_flux_total + (((radius_i**2)/((radius_o_1**2)-(radius_o_0**2)))**2)*(readout_sum_square + aperture_photometry(image, background_annulus)['aperture_sum'][0]))**(1/2) #this is the stuff for SNR\n",
    "\n",
    "        if source_flux_total <= 0:\n",
    "            inst_mag = -2.5*np.log10(abs(source_flux_total)) # For now, the case where the background is oversubtracted from LCO is handled in this way but this is probably not the correct way to do this.\n",
    "            delta_m = 2.5*np.log10(np.e)*abs(delta_n/source_flux_total)\n",
    "        else:\n",
    "            inst_mag = -2.5*np.log10(source_flux_total)\n",
    "            delta_m = 2.5*np.log10(np.e)*abs(delta_n/source_flux_total)\n",
    "        source['instrumental_mags'].append(inst_mag)\n",
    "        source['inst_mag_errs'].append(delta_m)\n"
   ],
   "metadata": {
    "collapsed": false,
    "ExecuteTime": {
     "start_time": "2023-05-31T17:06:49.705634Z",
     "end_time": "2023-05-31T17:07:39.421251Z"
    }
   }
  },
  {
   "cell_type": "code",
   "execution_count": null,
   "outputs": [],
   "source": [
    "#building calibration model:\n",
    "\n",
    "res = []\n",
    "mag_thresh = 16\n",
    "\n",
    "\n",
    "inst_mags = [np.mean(source['instrumental_mags']) for source in sources if source['g_mag'] != None and source['g_mag'] < mag_thresh]\n",
    "print(len(inst_mags))\n",
    "sky_mags = [source['g_mag'] for source in sources if source['g_mag'] != None and source['g_mag'] < mag_thresh]\n",
    "\n",
    "#Makes linear model for calibration:\n",
    "#This is the first round of modeling, with outliers.\n",
    "p0 = np.polyfit(inst_mags, sky_mags, deg = 1)\n",
    "x = np.arange(-15, 0)\n",
    "y = p0[0]*x + p0[1]\n",
    "plt.plot(x, y, color = 'b', label = \"Model With Outliers\")\n",
    "diffs = [s['g_mag']- (np.mean(s['instrumental_mags'])*p0[0] + p0[1]) for s in sources if s['g_mag'] != None and s['g_mag'] < mag_thresh]\n",
    "stdv = np.std(diffs)\n",
    "\n",
    "inst_mags_final = []\n",
    "sky_mags_final = []\n",
    "outlier_inst =[]\n",
    "outlier_sky =[]\n",
    "\n",
    "for diff in diffs: #rudementary sigma clipping to remove outliers from calibration model.\n",
    "    if diff < stdv:\n",
    "        i = diffs.index(diff)\n",
    "        inst_mags_final.append(inst_mags[i])\n",
    "        sky_mags_final.append(sky_mags[i])\n",
    "    else:\n",
    "        i = diffs.index(diff)\n",
    "        outlier_inst.append(inst_mags[i])\n",
    "        outlier_sky.append(sky_mags[i])\n",
    "p1 = np.polyfit(inst_mags_final, sky_mags_final, deg = 1) #recalculates calibration model without outliers.\n",
    "#p2 = np.polyfit(inst_mags_final, sky_mags_final, deg = 0)\n",
    "#print(p2[0])\n",
    "print(\"first try: {}\".format(p0)) #prints slopes of each model. In theory, they should come out to around 1.\n",
    "print(\"second try: {}\".format(p1))\n",
    "\n",
    "\n",
    "plt.scatter(outlier_inst, outlier_sky, color = 'b', label = \"Outliers\")\n",
    "plt.scatter(inst_mags_final, sky_mags_final, color = 'r', label = \"Kept\")\n",
    "plt.plot(x, [i*p1[0] + p1[1] for i in x], color = 'r', label = \"Model Without Outliers\")\n",
    "#plt.plot(x, [i+ p1[1] for i in x], color = 'g', label = \"unity\")\n",
    "plt.xlabel(\"Instrumental Magnitude SDSS g-band\")\n",
    "plt.ylabel(\"SDSS Reference Magnitude g-band\")\n",
    "plt.title(\"Instrumental vs Reference Magnitude\")\n",
    "plt.legend()\n",
    "#plt.savefig(\"F:/SDI/Section32Figures/calibrationplot.png\", dpi = 1000)\n",
    "#plt.savefig(\"/Users/lucaangeleri/Documents/LCO/sec17figures/calibrationplot.png\", dpi = 1000)\n",
    "plt.show()\n",
    "\n",
    "\n",
    "\n",
    "#add calibrated mags to sources:\n",
    "for source in sources:\n",
    "    vals = []\n",
    "    for val in source['instrumental_mags']:\n",
    "        cal = np.float64(val*p1[0] + p1[1])\n",
    "        vals.append(cal)\n",
    "    source['calibrated_mags'] = vals #probably a cleaner way to do this part but was having issue where calibrated magnitudes were being added to dict as individual arrays\n",
    "\n",
    "\n",
    "\n"
   ],
   "metadata": {
    "collapsed": false,
    "ExecuteTime": {
     "start_time": "2023-05-31T17:07:39.439093Z",
     "end_time": "2023-05-31T17:07:39.986058Z"
    }
   }
  },
  {
   "cell_type": "code",
   "execution_count": null,
   "outputs": [],
   "source": [
    "differences = [s['g_mag']- np.mean(s['calibrated_mags']) for s in sources if s['g_mag'] != None]\n",
    "mean_diff = np.mean(differences)\n",
    "std_diff = np.std(differences)\n",
    "med_diff = np.median(differences)\n",
    "print(mean_diff, med_diff,  std_diff)\n",
    "\n",
    "X = [np.mean(s['calibrated_mags']) for s in sources if s['g_mag'] != None and s['g_mag'] < mag_thresh]\n",
    "Y = [s['g_mag'] for s in sources if s['g_mag'] != None and s['g_mag'] < mag_thresh]\n",
    "p3 = np.polyfit(X, Y, deg = 1)\n",
    "x_vals = np.arange(9.5, 18.5)\n",
    "plt.plot(x_vals, [x*p3[0] + p3[1] for x in x_vals], color = 'b', label = 'm = {}, b = {}'.format(\"%.4f\" % p3[0], \"%.4f\" % p3[1]))\n",
    "\n",
    "\n",
    "print(p3)\n",
    "\n",
    "for s in sources:\n",
    "    if s['g_mag'] != None and abs(s['g_mag'] - np.mean(s['calibrated_mags'])) > 3*std_diff:\n",
    "        plt.errorbar(np.mean(s['calibrated_mags']), s['g_mag'], xerr= np.median(s['inst_mag_errs']), yerr= s['g_mag_err'], linestyle = 'none', marker = 'o', markersize = 2.5, color = 'b')\n",
    "        print(s['source_id'])\n",
    "    else:\n",
    "        plt.errorbar(np.mean(s['calibrated_mags']), s['g_mag'], xerr= np.median(s['inst_mag_errs']), yerr= s['g_mag_err'], linestyle = 'none', marker = 'o', markersize = 2.5, color = 'r' )\n",
    "\n",
    "\n",
    "\n",
    "plt.title(\"Calibrated vs Reference Magnitude\")\n",
    "plt.xlabel(\"TRIPP Calibrated Magnitude SDSS g-band\")\n",
    "plt.ylabel(\"SDSS Reference Magnitude g-band\")\n",
    "plt.legend()\n",
    "#plt.savefig(\"/Users/lucaangeleri/Documents/LCO/sec17figures/magdifferences.png\", format = 'png', dpi = 1000)\n",
    "plt.show()\n"
   ],
   "metadata": {
    "collapsed": false,
    "ExecuteTime": {
     "start_time": "2023-05-31T17:07:39.983298Z",
     "end_time": "2023-05-31T17:07:41.521534Z"
    }
   }
  },
  {
   "cell_type": "code",
   "execution_count": null,
   "outputs": [],
   "source": [
    "\n",
    "for source in sources:\n",
    "    r =  np.arange(0, len(source['calibrated_mags']), 1)\n",
    "    plt.errorbar(r, source['calibrated_mags'], yerr = source['inst_mag_errs'], linestyle = 'none', marker = 'o', color = 'b')\n",
    "\n",
    "    Chis = []\n",
    "    avg_mag = np.mean(source['calibrated_mags'])\n",
    "    for i, m in enumerate(source['calibrated_mags']):\n",
    "        chi_i = ((m- avg_mag)**2)/(source['inst_mag_errs'][i]**2)\n",
    "        Chis.append(chi_i)\n",
    "    dof = len(source['calibrated_mags']) - 1\n",
    "    chi_dof = np.sum(Chis)/dof\n",
    "    #plt.title(\"X, Y: {}, {}; RA, DEC: {}, {}, CHI2: {}, ID: {}\".format(\"%.2f\" % source['x_coord'],\"%.2f\" % source['y_coord'],\"%.4f\" % source['ra'][0],\"%.4f\" % source['dec'][0], \"%.2f\" %chi_dof, source['source_id'] )) #get only to display a few decimal places\n",
    "    plt.title(\"X, Y: {}, {}; CHI2: {}, ID: {}\".format(\"%.2f\" % source['x_coord'],\"%.2f\" % source['y_coord'], \"%.2f\" %chi_dof, source['source_id'] ))\n",
    "    plt.plot(r, np.ones(len(r))*avg_mag, label = \"TRIPP AVG MAG\", linestyle = '--', color = 'b')\n",
    "    if source['g_mag'] != None:\n",
    "        if source['g_mag'] < 16:\n",
    "            plt.plot(r, np.ones(len(r))*source['g_mag'], linestyle = '--', color = 'r', label = \"SDSS MAG [REF]\" )\n",
    "        if source['g_mag'] >= 16:\n",
    "            plt.plot(r, np.ones(len(r))*source['g_mag'], linestyle = '--', color = 'g', label = \"SDSS MAG [NOT REF]\" )\n",
    "\n",
    "    plt.legend()\n",
    "    plt.savefig(\"/Users/lucaangeleri/Documents/LCO/SNM101plots/Source{}lightcurve.png\".format(source['source_id']), format = 'png', dpi = 500)\n",
    "\n",
    "    plt.show()\n",
    "\n",
    "\n",
    "\n",
    "    plt.title(\"Source Number: {}, Position: {}, {}\".format(source['source_id'], \"%.2f\" % source['x_coord'], \"%.2f\" % source['y_coord']))\n",
    "    circle0 = plt.Circle((source['x_coord'], source['y_coord']), source['rad'], color = 'r', fill = False)\n",
    "    circle1 = plt.Circle((source['x_coord'], source['y_coord']), source['rad'] + 5, color = 'b', fill = False)\n",
    "    circle2 = plt.Circle((source['x_coord'], source['y_coord']), source['rad'] +5, color = 'g',fill = False)\n",
    "    ax = plt.gca()\n",
    "    ax.add_patch(circle0)\n",
    "    ax.add_patch(circle1)\n",
    "    ax.add_patch(circle2)\n",
    "    plt.imshow(template, cmap = 'gray', norm = LogNorm(vmin = 1, vmax = 200), origin='lower')\n",
    "    plt.savefig(\"/Users/lucaangeleri/Documents/LCO/SNM101plots/Source{}location.png\".format(source['source_id']), format = 'png', dpi = 500)\n",
    "    plt.show()\n",
    "\n",
    "\n",
    "\n",
    "\n"
   ],
   "metadata": {
    "collapsed": false,
    "ExecuteTime": {
     "start_time": "2023-05-31T13:41:38.977030Z",
     "end_time": "2023-05-31T13:42:57.967075Z"
    }
   }
  },
  {
   "cell_type": "code",
   "execution_count": null,
   "outputs": [],
   "source": [],
   "metadata": {
    "collapsed": false,
    "ExecuteTime": {
     "start_time": "2023-05-31T13:27:58.590352Z",
     "end_time": "2023-05-31T13:27:58.593110Z"
    }
   }
  }
 ],
 "metadata": {
  "kernelspec": {
   "display_name": "Python 3",
   "language": "python",
   "name": "python3"
  },
  "language_info": {
   "codemirror_mode": {
    "name": "ipython",
    "version": 2
   },
   "file_extension": ".py",
   "mimetype": "text/x-python",
   "name": "python",
   "nbconvert_exporter": "python",
   "pygments_lexer": "ipython2",
   "version": "2.7.6"
  }
 },
 "nbformat": 4,
 "nbformat_minor": 0
}
