{
 "cells": [
  {
   "cell_type": "markdown",
   "source": [
    "Notebook Testing"
   ],
   "metadata": {
    "collapsed": false
   }
  },
  {
   "cell_type": "code",
   "execution_count": null,
   "metadata": {},
   "outputs": [],
   "source": [
    "import time\n",
    "import sep\n",
    "import glob\n",
    "import numpy as np\n",
    "import astropy.units as u\n",
    "import matplotlib.pyplot as plt\n",
    "from matplotlib.colors import LogNorm\n",
    "import astroalign as aa\n",
    "from astropy.io import fits\n",
    "from astropy.coordinates import SkyCoord\n",
    "from photutils import centroids, CircularAperture\n",
    "from photutils.aperture import aperture_photometry\n",
    "from astropy.wcs.utils import skycoord_to_pixel, pixel_to_skycoord\n",
    "from astropy.coordinates import ICRS, FK5\n",
    "from regions import CirclePixelRegion, PixCoord"
   ]
  },
  {
   "cell_type": "code",
   "execution_count": null,
   "metadata": {},
   "outputs": [],
   "source": [
    "def mask(img, srcs, T):  # masking function. Takes science image and list of sources.\n",
    "    b = sep.Background(img)\n",
    "    dat = img-b.back() #background subtraction for app_phot\n",
    "    for i, s in enumerate(srcs):\n",
    "        x_cen = s['x']\n",
    "        y_cen = s['y']\n",
    "        radius = ((s['xmax'] - s['xmin'])/2)\n",
    "        center_2 = PixCoord(x_cen, y_cen)\n",
    "        circle = CirclePixelRegion(center_2, radius)\n",
    "        mask = circle.to_mask()  # this and the previous line make a \"circle\" array with ones\n",
    "        app2 = CircularAperture([x_cen, y_cen], radius)\n",
    "        app_phot2 = aperture_photometry(dat, app2)  # aperture sum\n",
    "        blend_val = float(app_phot2['aperture_sum'][0] / (np.pi * radius ** 2))# averaging the sum value over the area of the source\n",
    "        if T == True:\n",
    "            temp_blends.append((x_cen, y_cen, blend_val))\n",
    "        d = mask.bbox.extent\n",
    "        #print(d)\n",
    "        if d[0] < 0 or d[1] < 0 or d[2] < 0 or d[3] < 0:\n",
    "            continue\n",
    "        l1, l2, l3, l4 = int(d[0]-.5), int(d[1]-.5), int(d[2]-.5), int(d[3]-.5)\n",
    "\n",
    "        try:\n",
    "            fill = dat[l3:l4, l1:l2] * (np.ones(mask.data.shape) - np.array(mask.data)) # used to fill noise data back in (esentially making the mask a circle again)\n",
    "            dat[l3:l4, l1:l2] = mask.data*blend_val + fill #this just outright sets the values for each source to the blended value. note that the index slices are in y, x format. blame python\n",
    "        except ValueError:\n",
    "            continue\n",
    "        #print(i)\n",
    "    return dat\n",
    "\n",
    "#files = sorted(glob.glob(\"C:/Users/lucaa/Documents/PipelineLite/M31S25/*.fz\")) #file path for input data --> make sys.argv\n",
    "files = sorted(glob.glob(\"C:/Users/lucaa/Documents/PipelineLite/Small/*.fz\")) #file path for input data --> make sys.argv\n",
    "outstr = \"C:/Users/lucaa/Documents/PipelineLite/Residuals/{}.fz\"\n",
    "print(len(files))\n",
    "\n",
    "hdus = [fits.open(f) for f in files]\n",
    "data = [h[1].data for h in hdus]\n",
    "aligned = [aa.register(i, data[0])[0] for i in data[0:]]\n",
    "template = np.median(aligned, axis = 0)\n",
    "\n",
    "bkg0 = sep.Background(template)\n",
    "extracted0 = sep.extract(template-bkg0.back(), bkg0.globalrms*3, minarea =10, segmentation_map=False)\n",
    "\n",
    "masked = [mask(img, extracted0, False) for img in aligned]\n",
    "blend_template = mask(template, extracted0, False) #masks template --> look into true false thing, there was a reason for it at some point.\n",
    "\n",
    "residuals = [np.subtract(i, blend_template) for i in masked]\n",
    "\n",
    "\n",
    "counter = 0\n",
    "for pics in residuals:\n",
    "    bkg = sep.Background(pics)\n",
    "    extracted = sep.extract(pics - bkg.back(), bkg.globalrms * 3, minarea=10, segmentation_map=False)\n",
    "    header = fits.Header([fits.Card(\"History\", \"Extracted by sep\")])\n",
    "    hdul = fits.HDUList([fits.PrimaryHDU(pics), fits.BinTableHDU(data=extracted, header=header, name=\"SEP\", ver=None)])\n",
    "    hdul.writeto(outstr.format(counter), overwrite=True)\n",
    "    plt.scatter(extracted['x'], extracted['y'], facecolors = 'none', edgecolors = 'r')\n",
    "    counter += 1\n",
    "\n",
    "plt.imshow(template, norm = LogNorm(vmin = 1, vmax = 70), origin = 'lower')\n",
    "plt.show()\n",
    "\n",
    "\n",
    "#plt.imshow(template, cmap=\"viridis\", norm = LogNorm(vmin = 67, vmax = 212))\n",
    "#plt.show()"
   ]
  }
 ],
 "metadata": {
  "kernelspec": {
   "display_name": "Python 3",
   "language": "python",
   "name": "python3"
  },
  "language_info": {
   "name": "python",
   "version": "3.11.1"
  },
  "orig_nbformat": 4
 },
 "nbformat": 4,
 "nbformat_minor": 2
}
