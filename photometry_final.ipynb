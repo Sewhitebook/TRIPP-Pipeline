{
 "cells": [
  {
   "cell_type": "code",
   "execution_count": null,
   "metadata": {
    "collapsed": true
   },
   "outputs": [],
   "source": [
    "import glob\n",
    "import sep\n",
    "import astropy.units as u\n",
    "import astropy.coordinates as coord\n",
    "import matplotlib.pyplot as plt\n",
    "import numpy as np\n",
    "import astroalign as aa\n",
    "from scipy import odr\n",
    "import matplotlib.colors as mcolors\n",
    "from astropy.io import fits\n",
    "from astroquery.ipac.irsa import Irsa\n",
    "from astroquery.sdss import SDSS\n",
    "from astropy.wcs import WCS\n",
    "from astropy.wcs.utils import pixel_to_skycoord\n",
    "from astropy.coordinates import SkyCoord\n",
    "from matplotlib.colors import LogNorm, TABLEAU_COLORS, CSS4_COLORS\n",
    "from photutils.aperture import aperture_photometry, CircularAperture, CircularAnnulus, ApertureStats\n",
    "from regions import CirclePixelRegion, PixCoord\n",
    "from photutils import centroids\n",
    "\n",
    "#imports\n",
    "#FOR ASTROQUERRY: If you encounter an error related to \"fields\" in \"SDSS.querry_crossid\", try installing the newest development version of astroquerry rather than the default. There is a bug in the older official release version."
   ]
  },
  {
   "cell_type": "code",
   "execution_count": null,
   "outputs": [],
   "source": [
    "class Night: #Each observing night is initialized as a Night object\n",
    "    def __init__(self, file_path, night_number):\n",
    "        #each attribute is declared here first, even if value is assigned later\n",
    "        self.path = file_path #file path of obs night\n",
    "        self.obs_night = night_number #each night is assigned a number, the first night is night 0\n",
    "        self.image_data = None #the image data for the night\n",
    "        self.headers = None #the night's headers\n",
    "        self.wcs = None #world coordinate system transformation matrix\n",
    "        self.readout_noise = None #detector readout noise\n",
    "        self.aligned = None #aligned image data\n",
    "        self.template = None #template frame\n",
    "        self.references = None #reference sources\n",
    "        self.obs_filter = None #observation filter\n",
    "        self.no_obs_images = None #number of images in night\n",
    "\n",
    "\n",
    "    def initialize_frames(self):\n",
    "        science_dir = sorted(glob.glob(self.path + '/*')) #pulls data files using glob\n",
    "        hdus = [fits.open(image) for image in science_dir] #opens each fits image\n",
    "        self.image_data = [image[1].data for image in hdus] #pulls image data from file\n",
    "        self.headers = [image[1].header for image in hdus] #pulls header data from file.\n",
    "        self.wcs = WCS(self.headers[0]) #gets wcs transformation, each night should only have one unique transformation\n",
    "        self.readout_noise = self.headers[0]['RDNOISE'] #pulls readout noise from header. Readout noise is detector based and should be the same across nights taken with same equipment but do this just in case.\n",
    "\n",
    "        try: #try to align images for best results but might be able to get away with not.\n",
    "            self.aligned_images = [aa.register(image, self.image_data[0])[0] for image in self.image_data[0:]]\n",
    "        except:\n",
    "            self.aligned_images = self.image_data\n",
    "\n",
    "        self.template = np.median(self.aligned_images, axis = 0) #night template\n",
    "        background = sep.Background(self.template) #sep background subtraction for source extraction\n",
    "        self.references = sep.extract(self.template - background.back(),  background.globalrms*3, minarea =25, segmentation_map=False) #finds sources based on given parameters\n",
    "\n",
    "        self.obs_filter = self.headers[0]['filter'][0] #observation filter.\n",
    "        self.no_obs_images = len(self.aligned_images) #number of images in night.\n",
    "\n",
    "    def get_info(self): #function to grab night info, useful for debugging.\n",
    "        print(f\"path: {self.path}, night {self.obs_night}, n_frames: {len(self.image_data)}, n_aligned: {len(self.aligned_images)}, wcs: {self.wcs}, n_ref: {len(self.references)}, filter: {self.obs_filter}\")"
   ],
   "metadata": {
    "collapsed": false
   }
  },
  {
   "cell_type": "code",
   "execution_count": null,
   "outputs": [],
   "source": [
    "class Source: #initialize source object\n",
    "    def __init__(self, source, count, WCS):\n",
    "        self.position = pixel_to_skycoord(source['x'], source['y'], wcs= WCS).transform_to('icrs') #since pixel locations are inconsistent, store position as RA/DEC\n",
    "        self.radius = (source['xmax'] - source['xmin'])/2 #source radius (size) provided by SEP\n",
    "        self.source_id = count #identifying number\n",
    "        self.is_reference = None #if star is reference\n",
    "        self.ref_mag = None #SDSS magnitude, if available\n",
    "        self.ref_mag_err = None #reference mag error\n",
    "        self.inst_mags = [] #instrumnetal (our) magnitudes\n",
    "        self.inst_mag_errs = [] #instrumental mag errors\n",
    "        self.calibrated_mags = [] #calibrated magnitudes\n",
    "        self.flagged = False #bad source flag. Will be flipped true if a source is not present in all observing nights or has negative aperture sum\n",
    "\n",
    "    def query_source(self): #querry a source through the sdss database\n",
    "        #we want the search to return ra, dec, mags, and mag error. region = False, returns first result of search.\n",
    "        search = SDSS.query_crossid(self.position, fields = ['ra', 'dec', f'psfMag_{Nights[0].obs_filter}', f'psfMagErr_{Nights[0].obs_filter}'], radius = 15 * u.arcsec, region = False)\n",
    "        if search:\n",
    "            if search['type'] == \"STAR\": #want to make sure reference objects are Stars\n",
    "                self.is_reference = True #lets us know star is a reference star\n",
    "                self.ref_mag = search[f'psfMag_{Nights[0].obs_filter}'] #fill in mag and error fields:\n",
    "                self.ref_mag_err = search[f'psfMagErr_{Nights[0].obs_filter}']\n",
    "\n",
    "    def boundary_check(self, night): #checks if a star is within frame for a given night.\n",
    "        source_xy = SkyCoord.to_pixel(self.position, wcs= night.wcs)\n",
    "        if (night.headers[0]['NAXIS1'] - source_xy[0]) < 0 or source_xy[0] < 0 or (night.headers[0]['NAXIS2'] - source_xy[1]) < 0 or source_xy[1] < 0:\n",
    "            self.flagged = True #if star is out of bounds, flags star as bad\n",
    "\n",
    "\n",
    "    def aperture_photometry(self, img, nght): #does aperture photometry\n",
    "\n",
    "        coords = SkyCoord.to_pixel(self.position, wcs = nght.wcs) #gets pixel values of source from RA DEC\n",
    "        pcoords = PixCoord(coords[0], coords[1]) #another coord object needed for Regions\n",
    "\n",
    "        radius_i = self.radius #inner aperture radius\n",
    "        radius_o_0 = radius_i + 5 #inner annulus radius\n",
    "        radius_o_1 = radius_o_0 + 5 #outer annulus radius\n",
    "\n",
    "        source_circle = CirclePixelRegion(pcoords, radius_i).to_mask() #makes region of source shape\n",
    "        source_aperture = source_circle.cutout(img) #gets data of source\n",
    "\n",
    "        background_annulus = CircularAnnulus(coords, radius_o_0, radius_o_1) #makes annulus for background subtraction\n",
    "        background_mean = ApertureStats(img, background_annulus).mean #takes mean of background annulus\n",
    "\n",
    "\n",
    "        source_flux_pix = source_aperture-(source_circle*background_mean) #pixel wise background subtraction\n",
    "        source_flux_total = np.sum(source_flux_pix) #total flux\n",
    "\n",
    "\n",
    "        readout_sum_square = np.sum(source_circle*np.float64(nght.readout_noise**2)) #applies square readout noise to source array shape, then adds. Gives sum of square readout noise over back subtracted source.\n",
    "\n",
    "        delta_n = (readout_sum_square + source_flux_total + (((radius_i**2)/((radius_o_1**2)-(radius_o_0**2)))**2)*(readout_sum_square + aperture_photometry(img, background_annulus)['aperture_sum'][0]))**(1/2) #term needed for magnitude error calculation\n",
    "\n",
    "        if source_flux_total < 0:\n",
    "            print(self.source_id)\n",
    "            self.flagged = True #flags source if aperture sum turns out to be negative\n",
    "\n",
    "        else:\n",
    "            instrumental_mag = -2.5*np.log10(source_flux_total) #magnitude\n",
    "            instrumental_mag_error = 2.5*np.log10(np.e)*abs(delta_n/source_flux_total) #magntiude error\n",
    "            self.inst_mags.append(instrumental_mag)\n",
    "            self.inst_mag_errs.append(instrumental_mag_error)\n",
    "\n",
    "    def add_calibrated_mag(self, mag):\n",
    "        self.calibrated_mags.append(mag) #adds calibrated mag. For some reason, math comes out unexpectedly if calibration takes place in class function.\n",
    "\n",
    "\n",
    "    def get_info(self): #prints out source info.\n",
    "        print(f\"ra_dec: {self.position}, rad: {self.radius}, ref_status: {self.is_reference}, ref_mag: {self.ref_mag}, inst_mag_avg:{np.mean(self.inst_mags)}, cal_mag_avg: {np.mean(self.calibrated_mags)}, flagged: {self.flagged}, ID: {self.source_id}\")\n"
   ],
   "metadata": {
    "collapsed": false
   }
  },
  {
   "cell_type": "code",
   "execution_count": null,
   "outputs": [],
   "source": [
    "def lin_model(p, x): #define a standard linear model for ODR fitting. Part of calibration.\n",
    "    return p[0] * x + p[1]"
   ],
   "metadata": {
    "collapsed": false
   }
  },
  {
   "cell_type": "code",
   "execution_count": null,
   "outputs": [],
   "source": [
    "primary_dir = sorted(glob.glob(\"/Users/lucaangeleri/Documents/LCO/SN2023ixf_all/SN2023ixf_r/*\")) #main file directory; directory containing folders for each night.\n",
    "Nights = [Night(directory, dir_number) for dir_number, directory in enumerate(primary_dir)] #initializes each night as a Night object\n",
    "for night in Nights:\n",
    "    night.initialize_frames() #see initialize_frames() in Night class definitions"
   ],
   "metadata": {
    "collapsed": false
   }
  },
  {
   "cell_type": "code",
   "execution_count": null,
   "outputs": [],
   "source": [
    "Sources = [Source(source, count, Nights[0].wcs) for count, source in enumerate(Nights[0].references)] #initializes sources based off first night's list. This ensures proper source traking\n",
    "for source in Sources:\n",
    "    if source.flagged == False:\n",
    "        source.query_source() #see query_source() in source class definitions"
   ],
   "metadata": {
    "collapsed": false
   }
  },
  {
   "cell_type": "code",
   "execution_count": null,
   "outputs": [],
   "source": [
    "night_array = [] #this is to help organize plotting later.\n",
    "mag_thresh = 16.5 #magnitude threshold for calibrating sources.\n",
    "for night in Nights: #for each night, iterates through every source for each image.\n",
    "    for image in night.aligned_images:\n",
    "        for source in Sources:\n",
    "            source.boundary_check(night) #see boundary_check() in source class definition\n",
    "            if source.flagged == False:\n",
    "                source.aperture_photometry(image, night)  #see aperture_photometry() in source class definition\n",
    "        night_array.append(night.obs_night)\n"
   ],
   "metadata": {
    "collapsed": false
   }
  },
  {
   "cell_type": "code",
   "execution_count": null,
   "outputs": [],
   "source": [
    "slopes = []\n",
    "zeros = []\n",
    "for night in Nights: #does orthogonal distance regression to fit a calibration line. Takes average mags across each night for a total of 10 calibration plots.\n",
    "    index_low = len(night.image_data)*night.obs_night\n",
    "    index_high = len(night.image_data)*(1+night.obs_night)\n",
    "    x = [np.mean(source.inst_mags[index_low:index_high]) for source in Sources if source.is_reference == True and source.ref_mag < mag_thresh and source.flagged == False]\n",
    "    y = [source.ref_mag[0] for source in Sources if source.is_reference == True and source.ref_mag < mag_thresh and source.flagged == False]\n",
    "    inst_mag_errs = [np.mean(source.inst_mag_errs[index_low:index_high]) for source in Sources if source.is_reference == True and source.ref_mag < mag_thresh and source.flagged == False]\n",
    "    sky_mag_errs = [source.ref_mag_err[0] for source in Sources if source.is_reference == True and source.ref_mag < mag_thresh and source.flagged == False]\n",
    "    linear = odr.Model(lin_model)\n",
    "    calibration_data = odr.Data(x, y, we=inst_mag_errs, wd = sky_mag_errs)\n",
    "    fit_params = odr.ODR(calibration_data, linear, beta0=[1.0, 23.5]).run() #beta0 is initial guesses\n",
    "    slopes.append(fit_params.beta[0])\n",
    "    zeros.append(fit_params.beta[1])\n",
    "\n",
    "print(len(slopes))"
   ],
   "metadata": {
    "collapsed": false
   }
  },
  {
   "cell_type": "code",
   "execution_count": null,
   "outputs": [],
   "source": [
    "slopes_scaled = np.array(slopes)[np.array(night_array)]\n",
    "zeros_scaled = np.array(zeros)[np.array(night_array)]\n",
    "for source in Sources:\n",
    "    if source.flagged != True:\n",
    "        for i in range(0, len(slopes_scaled)):\n",
    "            #print(i, slopes_scaled[i], zeros_scaled[i])\n",
    "            mag = (source.inst_mags[i]*slopes_scaled[i] + zeros_scaled[i])\n",
    "            source.add_calibrated_mag(mag)"
   ],
   "metadata": {
    "collapsed": false
   }
  },
  {
   "cell_type": "code",
   "execution_count": null,
   "outputs": [],
   "source": [
    "color_arr = np.array(sorted(CSS4_COLORS, key=lambda c: tuple(mcolors.rgb_to_hsv(mcolors.to_rgb(c)))))\n",
    "l = np.arange(0, len(slopes_scaled))\n",
    "\n",
    "median_curves = []\n",
    "for night in Nights:\n",
    "    median_mags = []\n",
    "    index_l = len(night.image_data)*night.obs_night\n",
    "    index_h = len(night.image_data)*(1+night.obs_night)\n",
    "    for source in Sources:\n",
    "        if source.flagged != True:\n",
    "            median_mags.append(source.calibrated_mags[index_l:index_h])\n",
    "    median_curve = np.median(median_mags, axis = 0)/np.median(median_mags)\n",
    "    median_curves.append(median_curve)\n",
    "med_curve = np.concatenate(median_curves)\n",
    "print(len(med_curve))\n",
    "plt.scatter(l, med_curve, c = color_arr[93::5][np.array(night_array)])\n",
    "plt.gca().invert_yaxis()\n",
    "plt.show()"
   ],
   "metadata": {
    "collapsed": false
   }
  },
  {
   "cell_type": "code",
   "execution_count": null,
   "outputs": [],
   "source": [
    "for source in Sources:\n",
    "    if source.flagged != True:\n",
    "        print(source.get_info())\n",
    "        r = np.arange(0, len(source.calibrated_mags))\n",
    "        for i, value in enumerate(source.calibrated_mags):\n",
    "            plt.errorbar(i, value/med_curve[i], yerr=source.inst_mag_errs[i], linestyle = 'none', marker = 'o', c = color_arr[93::5][np.array(night_array)][i] )\n",
    "        avg_mag =  np.mean(source.calibrated_mags)\n",
    "        avg_mag_str = \"%.3f\" % avg_mag\n",
    "        plt.plot(r, np.ones(len(r))*avg_mag, linestyle = '--', color = \"g\", label = f\"TRIPP{Nights[0].obs_filter} AVG Mag: {avg_mag_str}\")\n",
    "        if source.is_reference:\n",
    "            plt.plot(r, np.ones(len(r))*source.ref_mag, linestyle = '--', color = \"r\", label = f\"SDSS-{Nights[0].obs_filter} Ref Mag: {source.ref_mag}\")\n",
    "            print(source.ref_mag-avg_mag)\n",
    "\n",
    "        plt.gca().invert_yaxis()\n",
    "        plt.legend()\n",
    "        #plt.savefig(\"/Users/lucaangeleri/Desktop/test/plot{}\".format(source.source_id), format = 'png', dpi = 500,  bbox_inches=\"tight\")\n",
    "        plt.show()\n"
   ],
   "metadata": {
    "collapsed": false
   }
  },
  {
   "cell_type": "code",
   "execution_count": null,
   "outputs": [],
   "source": [
    "for night in Nights:\n",
    "    index_low = len(night.image_data)*night.obs_night\n",
    "    index_high = len(night.image_data)*(1+night.obs_night)\n",
    "    x = [np.mean(source.calibrated_mags[index_low:index_high]) for source in Sources if source.is_reference == True and source.ref_mag < mag_thresh and source.flagged == False]\n",
    "    y = [source.ref_mag[0] for source in Sources if source.is_reference == True and source.ref_mag < mag_thresh and source.flagged == False]\n",
    "    inst_mag_errs = [np.mean(source.inst_mag_errs[index_low:index_high]) for source in Sources if source.is_reference == True and source.ref_mag < mag_thresh and source.flagged == False]\n",
    "    sky_mag_errs = [source.ref_mag_err[0] for source in Sources if source.is_reference == True and source.ref_mag < mag_thresh and source.flagged == False]\n",
    "    print(len(x),  index_low, index_high, night.obs_night)\n",
    "    #p = np.polyfit(x, y, deg = 1)\n",
    "    linear = odr.Model(lin_model)\n",
    "    calibration_data = odr.Data(x, y, we=inst_mag_errs, wd = sky_mag_errs)\n",
    "    fit_params = odr.ODR(calibration_data, linear, beta0=[1.0, 0]).run()\n",
    "    #r = np.arange(0, len(x))\n",
    "    r = np.arange(5, 18)\n",
    "    plt.scatter(x, y, c = 'r')\n",
    "    plt.plot(r, r*fit_params.beta[0] + fit_params.beta[1], c = 'b' )\n",
    "    plt.title(f\"fit: m: {fit_params.beta[0]}, b: {fit_params.beta[1]}\")\n",
    "    plt.show()"
   ],
   "metadata": {
    "collapsed": false
   }
  },
  {
   "cell_type": "code",
   "execution_count": null,
   "outputs": [],
   "source": [],
   "metadata": {
    "collapsed": false
   }
  }
 ],
 "metadata": {
  "kernelspec": {
   "display_name": "Python 3",
   "language": "python",
   "name": "python3"
  },
  "language_info": {
   "codemirror_mode": {
    "name": "ipython",
    "version": 2
   },
   "file_extension": ".py",
   "mimetype": "text/x-python",
   "name": "python",
   "nbconvert_exporter": "python",
   "pygments_lexer": "ipython2",
   "version": "2.7.6"
  }
 },
 "nbformat": 4,
 "nbformat_minor": 0
}
